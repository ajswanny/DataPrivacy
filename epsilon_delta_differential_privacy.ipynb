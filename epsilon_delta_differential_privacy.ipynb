{
 "cells": [
  {
   "cell_type": "code",
   "execution_count": 1,
   "metadata": {},
   "outputs": [],
   "source": [
    "%matplotlib inline\n",
    "import matplotlib.pyplot as plt\n",
    "plt.style.use('seaborn-whitegrid')\n",
    "import pandas as pd\n",
    "import numpy as np\n",
    "adult_data = pd.read_csv(\"adult_with_pii.csv\")\n",
    "adult_data['DOB'] = pd.to_datetime(adult_data['DOB'], errors='coerce')\n",
    "\n",
    "# Some useful utilities\n",
    "\n",
    "def laplace_mech(v, sensitivity, epsilon):\n",
    "    return v + np.random.laplace(loc=0, scale=sensitivity / epsilon)\n",
    "\n",
    "def gaussian_mech(v, sensitivity, epsilon, delta):\n",
    "    return v + np.random.normal(loc=0, scale=sensitivity * np.sqrt(2*np.log(1.25/delta)) / epsilon)\n",
    "\n",
    "def pct_error(orig, priv):\n",
    "    return np.abs(orig - priv)/orig * 100.0\n",
    "\n",
    "def your_code_here():\n",
    "    return 1"
   ]
  },
  {
   "cell_type": "markdown",
   "metadata": {},
   "source": [
    "## Part 1: Clipping"
   ]
  },
  {
   "cell_type": "markdown",
   "metadata": {},
   "source": [
    "### Question 1 (5 points)\n",
    "\n",
    "Define a function `z_clip` that clips elements of its input to lie below `b`. You may assume that no input will be less than 0.\n",
    "\n",
    "*Hint*: for each element of `xs`, `z_clip` should return the minimum of the element and `b`."
   ]
  },
  {
   "cell_type": "code",
   "execution_count": 2,
   "metadata": {},
   "outputs": [],
   "source": [
    "def z_clip(xs, b):\n",
    "    return xs.clip(lower=0, upper=b)"
   ]
  },
  {
   "cell_type": "markdown",
   "metadata": {},
   "source": [
    "### Question 2 (5 points)\n",
    "\n",
    "Write code to (1) clip the values of the `Capital Gain` column of the dataset, and (2) compute the average of the clipped values. Run your code for various values of the clipping parameter `b`.\n",
    "\n",
    "*Hint*: you can use `np.sum()` to sum up the values in a single column of a dataframe."
   ]
  },
  {
   "cell_type": "code",
   "execution_count": 3,
   "metadata": {},
   "outputs": [
    {
     "name": "stdout",
     "output_type": "stream",
     "text": [
      "1   0.08328982525106723\n",
      "10001   526.5809096772213\n",
      "20001   672.8438930008292\n",
      "30001   734.5153404379472\n",
      "40001   784.5896624796536\n",
      "50001   833.5014895119929\n",
      "60001   882.3329136083045\n",
      "70001   931.164337704616\n",
      "80001   979.9957618009275\n",
      "90001   1028.8271858972391\n",
      "100001   1077.6488437087312\n",
      "110001   1077.6488437087312\n",
      "120001   1077.6488437087312\n",
      "130001   1077.6488437087312\n",
      "140001   1077.6488437087312\n",
      "150001   1077.6488437087312\n",
      "160001   1077.6488437087312\n",
      "170001   1077.6488437087312\n",
      "180001   1077.6488437087312\n",
      "190001   1077.6488437087312\n",
      "200001   1077.6488437087312\n",
      "210001   1077.6488437087312\n",
      "220001   1077.6488437087312\n",
      "230001   1077.6488437087312\n",
      "240001   1077.6488437087312\n",
      "250001   1077.6488437087312\n",
      "260001   1077.6488437087312\n",
      "270001   1077.6488437087312\n",
      "280001   1077.6488437087312\n",
      "290001   1077.6488437087312\n"
     ]
    }
   ],
   "source": [
    "cg = adult_data['Capital Gain']\n",
    "for i in range (1, 300001, 10000):\n",
    "    x = z_clip(cg, i)\n",
    "    print(i, \" \", x.sum()/x.shape[0])"
   ]
  },
  {
   "cell_type": "markdown",
   "metadata": {},
   "source": [
    "### Question 3 (5 points)\n",
    "\n",
    "Write code to return the differentially private average of `Capital Gain` parameterized by the clipping parameter `b`. Run your code for various values of `b` and use `pct_error` to determine the error introduced for each value of `b`."
   ]
  },
  {
   "cell_type": "code",
   "execution_count": 19,
   "metadata": {},
   "outputs": [
    {
     "name": "stdout",
     "output_type": "stream",
     "text": [
      "1\t0.0832920117567261\t0.002625177387840936\n",
      "10001\t526.3272335480899\t0.04817419782400499\n",
      "20001\t672.8044912429934\t0.005856002892446197\n",
      "30001\t730.5549912352327\t0.5391785555293072\n",
      "40001\t784.6459033486966\t0.007168188893191442\n",
      "50001\t833.4189807873156\t0.009899049457677188\n",
      "60001\t881.1632279984585\t0.13256737811836888\n",
      "70001\t932.9671086417802\t0.19360394982567983\n",
      "80001\t980.332232799453\t0.03433392384341674\n",
      "90001\t1029.2874450905317\t0.04473629775745035\n",
      "100001\t1070.8283480650741\t0.6329052068746546\n",
      "110001\t1077.3210443884268\t0.030418008817814087\n",
      "120001\t1073.1862153374539\t0.41410784202386247\n",
      "130001\t1077.7960295605544\t0.013658053148062906\n",
      "140001\t1089.1282313504032\t1.0652252548395709\n",
      "150001\t1076.6432717544271\t0.09331165343651102\n",
      "160001\t1075.9878201555946\t0.1541340263884277\n",
      "170001\t1065.9360934532936\t1.086880046669765\n",
      "180001\t1077.111492573237\t0.04986328697248872\n",
      "190001\t1089.0248862948135\t1.0556353911104912\n",
      "200001\t1078.2743360097934\t0.05804231171534151\n",
      "210001\t1080.624620726939\t0.2761360563397064\n",
      "220001\t1067.8812330500957\t0.9063815839137561\n",
      "230001\t1078.755240552113\t0.10266765930673456\n",
      "240001\t1077.0475035307948\t0.05580112496264758\n",
      "250001\t1070.7374731589177\t0.641337907998672\n",
      "260001\t1080.3073543957698\t0.2466954521000896\n",
      "270001\t1055.3056035516383\t2.0733321700785696\n",
      "280001\t1072.2658230193388\t0.49951528466979517\n",
      "290001\t1075.3868848774193\t0.2098975788372139\n"
     ]
    }
   ],
   "source": [
    "for i in range (1, 300001, 10000):\n",
    "    epsilon = 1\n",
    "    clipped_data = z_clip(cg, i)\n",
    "    mean = clipped_data.sum()/clipped_data.shape[0]\n",
    "    d_mean = laplace_mech(clipped_data.sum(), i, epsilon) / laplace_mech(clipped_data.shape[0], 1, epsilon)\n",
    "    print(i, d_mean, pct_error(mean, d_mean), sep='\\t')"
   ]
  },
  {
   "cell_type": "markdown",
   "metadata": {},
   "source": [
    "### Question 4 (5 points)\n",
    "\n",
    "In 5-10 sentences, answer the following:\n",
    "\n",
    "- In Question 2, at approximately what value of the clipping parameter `b` does the clipped average approach the original (un-clipped) average?\n",
    "- What is the sensitivity of the clipped average at this value of `b`, and why?\n",
    "- In Question 3, at approximately what value of the clipping parameter `b` is the error minimized?\n",
    "- Which seems to be more important for accuracy - the value of `b` or the scale of the noise added? Why?\n",
    "- Do you think the answer to the previous point will be true for every dataset? Why or why not?"
   ]
  },
  {
   "cell_type": "markdown",
   "metadata": {},
   "source": [
    "- This occurs at `b = 100001`.\n",
    "- The sensitivity is b because adding a row will change the result by, at most, b.\n",
    "- This occurs at `b = 100001`.\n",
    "- The scale of the noise added is more important as this value directly affects final results.\n",
    "- I believe that this is true for every dataset. If a function directly affects the value of the output of a query, the data is irrelevant as long as it is numerical."
   ]
  },
  {
   "cell_type": "markdown",
   "metadata": {},
   "source": [
    "### Question 5 (20 points)\n",
    "\n",
    "Write a function `auto_avg` that returns the differentially private average of an array of values `xs`. Your function should **automatically** determine the clipping parameter `b`, and should enforce differential privacy for a **total** privacy cost of `epsilon`."
   ]
  },
  {
   "cell_type": "code",
   "execution_count": 13,
   "metadata": {},
   "outputs": [
    {
     "data": {
      "text/plain": [
       "'Average: 1070.375681613603; Selected clipping parameter: 230001'"
      ]
     },
     "execution_count": 13,
     "metadata": {},
     "output_type": "execute_result"
    }
   ],
   "source": [
    "def auto_avg(xs, epsilon):\n",
    "    \n",
    "    dp_results = {}\n",
    "    for i in range(1, 300001, 10000):\n",
    "        t_clipped_data = z_clip(xs, i)\n",
    "        t_mean = t_clipped_data.sum()/t_clipped_data.shape[0]\n",
    "        t_d_mean = laplace_mech(t_clipped_data.sum(), i, epsilon) / laplace_mech(t_clipped_data.shape[0], 1, epsilon)\n",
    "        dp_results[i] = pct_error(t_mean, t_d_mean)\n",
    "    b = min(dp_results, key=dp_results.get)\n",
    "    clipped_data = z_clip(xs, b)\n",
    "    return f\"Average: {laplace_mech(t_clipped_data.sum(), b, epsilon) / laplace_mech(t_clipped_data.shape[0], 1, epsilon)}; Selected clipping parameter: {b}\"\n",
    "\n",
    "auto_avg(cg, 1)"
   ]
  },
  {
   "cell_type": "markdown",
   "metadata": {},
   "source": [
    "### Question 6 (10 points)\n",
    "\n",
    "In 5-10 sentences, answer the following:\n",
    "- Summarize (1-2 sentences only) your approach in `auto_avg`.\n",
    "- Briefly argue that your implementation has privacy cost of `epsilon`.\n",
    "- How close is your function able to get to the \"best\" result you got in Question 3? What accounts for the difference?\n",
    "- Will your approach work well for **all** datasets? If not, describe a dataset for which it is likely to return very inaccurate results."
   ]
  },
  {
   "cell_type": "markdown",
   "metadata": {},
   "source": [
    "- For this task, I made use of `pct_error` in order to find the lowest error and use the value of `b` that produced it.\n",
    "- For each query, the result is the product of a parallel composition of two queries. Thus, their combined privacy cost is the same.\n",
    "- The function is able to consisently get accurate results. Discrepancies occur because of the differential privacy noise.\n",
    "- This function will not work well for all data. For example, it would not be ideal for complex datasets that map data to construct dynamic values."
   ]
  },
  {
   "cell_type": "markdown",
   "metadata": {},
   "source": [
    "## Part 2: $(\\epsilon, \\delta)$-differential privacy\n",
    "\n",
    "### Question 7 (5 points)\n",
    "\n",
    "Consider the code below, which graphs the total privacy cost of an averaging attack under (1) sequential composition and (2) advanced composition, for values of `k` between 1 and 200."
   ]
  },
  {
   "cell_type": "code",
   "execution_count": 21,
   "metadata": {},
   "outputs": [
    {
     "data": {
      "image/png": "[encoded data removed]",
      "text/plain": [
       "<Figure size 432x288 with 1 Axes>"
      ]
     },
     "metadata": {
      "needs_background": "light"
     },
     "output_type": "display_data"
    }
   ],
   "source": [
    "epsilon = .1\n",
    "delta_p = 1e-5\n",
    "\n",
    "def query():\n",
    "    return len(adult_data[adult_data['Martial Status'] == 'Divorced'])\n",
    "\n",
    "def avg_attack(k):\n",
    "    return np.mean([laplace_mech(query(), 1, epsilon) for i in range(k)])\n",
    "    \n",
    "xs = range(1, 200)\n",
    "privacy_cost_sequential = [k * epsilon for k in xs]\n",
    "privacy_cost_advanced = [2 * epsilon * np.sqrt(2 * k * np.log(1/delta_p)) for k in xs]\n",
    "\n",
    "plt.plot(xs, privacy_cost_sequential);\n",
    "plt.plot(xs, privacy_cost_advanced);"
   ]
  },
  {
   "cell_type": "markdown",
   "metadata": {},
   "source": [
    "In 2-5 sentences, answer the following:\n",
    "- At approximately what point do the lines representing the two approaches cross? What does this mean about **which** composition technique should be used for an iterative algorithm?\n",
    "- The two lines represent **different** privacy costs for the **same** algorithm. How can both be correct?"
   ]
  },
  {
   "cell_type": "markdown",
   "metadata": {},
   "source": [
    "- The lines approach at approximately x = 90; both composition techniques work, but for values less than x = 70, sequential composition is better.\n",
    "- It is not a matter of correctness, but rather one of privacy cost. For small iterations, sequential composition is best; for large ones, advanced composition is."
   ]
  },
  {
   "cell_type": "markdown",
   "metadata": {},
   "source": [
    "### Question 8 (10 points)\n",
    "\n",
    "In the cell below, define a function that implements the vector version of the Laplace mechanism. An implementation that works for a single number is defined for reference as `laplace_mech` above."
   ]
  },
  {
   "cell_type": "code",
   "execution_count": 22,
   "metadata": {},
   "outputs": [],
   "source": [
    "def laplace_mech_vec(qs, sensitivity, epsilon):\n",
    "    return [laplace_mech(q, sensitivity, epsilon) for q in qs]"
   ]
  },
  {
   "cell_type": "markdown",
   "metadata": {},
   "source": [
    "### Question 9 (10 points)\n",
    "\n",
    "In the cell below, define a function that implements the vector version of the Gaussian mechanism. An implementation that works for a single number is defined for reference as `gaussian_mech` above."
   ]
  },
  {
   "cell_type": "code",
   "execution_count": 23,
   "metadata": {},
   "outputs": [],
   "source": [
    "def gaussian_mech_vec(qs, sensitivity, epsilon, delta):\n",
    "    return [gaussian_mech(q, sensitivity, epsilon, delta) for q in qs]"
   ]
  },
  {
   "cell_type": "markdown",
   "metadata": {},
   "source": [
    "### Question 10 (10 points)\n",
    "\n",
    "Consider the code below, which defines three average queries and runs them on `adult_data`, using the Laplace mechanism to provide differential privacy with $\\epsilon = 1$ for each query."
   ]
  },
  {
   "cell_type": "code",
   "execution_count": 24,
   "metadata": {},
   "outputs": [
    {
     "data": {
      "text/plain": [
       "[235.98968090660605, 1981.2278185559412, 38.58164675532078]"
      ]
     },
     "execution_count": 24,
     "metadata": {},
     "output_type": "execute_result"
    }
   ],
   "source": [
    "b_capgain = 3000\n",
    "b_year = 3000\n",
    "b_age = 3000\n",
    "\n",
    "epsilon = 1\n",
    "n = len(adult_data)\n",
    "\n",
    "def query1():\n",
    "    return np.sum(z_clip(adult_data['Capital Gain'], b_capgain))/n\n",
    "\n",
    "def query2():\n",
    "    return np.sum(z_clip(adult_data['DOB'].dt.year, b_year))/n\n",
    "\n",
    "def query3():\n",
    "    return np.sum(z_clip(adult_data['Age'], b_age))/n\n",
    "\n",
    "def my_query():\n",
    "    return [query1(), query2(), query3()]\n",
    "\n",
    "my_query()"
   ]
  },
  {
   "cell_type": "markdown",
   "metadata": {},
   "source": [
    "In 2-5 sentences, answer the following:\n",
    "- What is the $L_1$ sensitivity of `my_query`, and why?\n",
    "- What is the $L_2$ sensitivity of `my_query`, and why?"
   ]
  },
  {
   "cell_type": "markdown",
   "metadata": {},
   "source": [
    "- The sensitivity is equal to the sum of the elementwise sensitivities of each query.\n",
    "- The sensitivity is the square root of the sum of the elementwise sensitivities."
   ]
  },
  {
   "cell_type": "markdown",
   "metadata": {},
   "source": [
    "### Question 11 (5 points)\n",
    "\n",
    "In the cell below, write code to release the results of calling `my_query()` with differential privacy, without using sequential composition.\n",
    "\n",
    "*Hint*: use `laplace_mech_vec`, but be careful of sensitivity!"
   ]
  },
  {
   "cell_type": "code",
   "execution_count": 26,
   "metadata": {},
   "outputs": [
    {
     "data": {
      "text/plain": [
       "[244.0140963957935, 2014.128760595741, 19.01276978647182]"
      ]
     },
     "execution_count": 26,
     "metadata": {},
     "output_type": "execute_result"
    }
   ],
   "source": [
    "laplace_mech_vec(my_query(), np.sqrt(sum(my_query())), epsilon)"
   ]
  },
  {
   "cell_type": "markdown",
   "metadata": {},
   "source": [
    "### Question 12 (5 points)\n",
    "\n",
    "In 2-5 sentences, answer the following:\n",
    "- What is the total privacy cost of your answer to Question 11, and why? *Hint*: there should be *only* one call to the Laplace mechanism, and so sequential composition is not needed!"
   ]
  },
  {
   "cell_type": "markdown",
   "metadata": {},
   "source": [
    "- With $\\delta = 10^{-5}$, the privacy cost is \n",
    "\n",
    "\\begin{align}\n",
    "\\epsilon = & 2 \\sqrt{6 \\log(100000)}\\\\\n",
    "\\approx&  22.60\n",
    "\\end{align}"
   ]
  },
  {
   "cell_type": "markdown",
   "metadata": {},
   "source": [
    "### Question 13 (5 points)\n",
    "\n",
    "In the cell below, write code to release the results of `my_query()` with differential privacy, but using the Gaussian mechanism.\n",
    "\n",
    "*Hint*: remember to use $L_2$ sensitivity"
   ]
  },
  {
   "cell_type": "code",
   "execution_count": 33,
   "metadata": {
    "scrolled": true
   },
   "outputs": [
    {
     "data": {
      "text/plain": [
       "[310.71561870858574, 2315.7730578178453, 91.89640353405684]"
      ]
     },
     "execution_count": 33,
     "metadata": {},
     "output_type": "execute_result"
    }
   ],
   "source": [
    "gaussian_mech_vec(my_query(), np.sqrt(sum(my_query())), epsilon, 10**(-5))"
   ]
  },
  {
   "cell_type": "code",
   "execution_count": null,
   "metadata": {},
   "outputs": [],
   "source": []
  }
 ],
 "metadata": {
  "kernelspec": {
   "display_name": "Python 3",
   "language": "python",
   "name": "python3"
  },
  "language_info": {
   "codemirror_mode": {
    "name": "ipython",
    "version": 3
   },
   "file_extension": ".py",
   "mimetype": "text/x-python",
   "name": "python",
   "nbconvert_exporter": "python",
   "pygments_lexer": "ipython3",
   "version": "3.7.3"
  }
 },
 "nbformat": 4,
 "nbformat_minor": 4
}
