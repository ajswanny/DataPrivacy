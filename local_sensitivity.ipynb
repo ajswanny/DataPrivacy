{
 "cells": [
  {
   "cell_type": "code",
   "execution_count": 2,
   "metadata": {},
   "outputs": [],
   "source": [
    "%matplotlib inline\n",
    "import matplotlib.pyplot as plt\n",
    "plt.style.use('seaborn-whitegrid')\n",
    "import pandas as pd\n",
    "import numpy as np\n",
    "\n",
    "# Some useful utilities\n",
    "\n",
    "def laplace_mech(v, sensitivity, epsilon):\n",
    "    return v + np.random.laplace(loc=0, scale=sensitivity / epsilon)\n",
    "\n",
    "def gaussian_mech(v, sensitivity, epsilon, delta):\n",
    "    return v + np.random.normal(loc=0, scale=sensitivity * np.sqrt(2*np.log(1.25/delta)) / epsilon)\n",
    "\n",
    "def pct_error(orig, priv):\n",
    "    return np.abs(orig - priv)/orig * 100.0\n",
    "\n",
    "def z_clip(xs, b):\n",
    "    return [min(x, b) for x in xs]\n",
    "\n",
    "def clip(xs, upper, lower):\n",
    "    return [max(min(x, upper), lower) for x in xs]\n",
    "\n",
    "def your_code_here():\n",
    "    return 1\n",
    "\n",
    "def test(msg, value, expected):\n",
    "    if value == expected:\n",
    "        print(f\"{msg}: {value}, as expected\")\n",
    "    else:\n",
    "        print(f\"{msg}: OH NO! Got {value}, but expected {expected}.\")"
   ]
  },
  {
   "cell_type": "code",
   "execution_count": 3,
   "metadata": {},
   "outputs": [],
   "source": [
    "adult_data = pd.read_csv(\"adult_with_pii.csv\", parse_dates=['DOB'])"
   ]
  },
  {
   "cell_type": "markdown",
   "metadata": {},
   "source": [
    "## Question 1 (5 points)\n",
    "Consider the following dataframes and the query `count_join`."
   ]
  },
  {
   "cell_type": "code",
   "execution_count": 6,
   "metadata": {},
   "outputs": [
    {
     "data": {
      "text/html": [
       "<div>\n",
       "<style scoped>\n",
       "    .dataframe tbody tr th:only-of-type {\n",
       "        vertical-align: middle;\n",
       "    }\n",
       "\n",
       "    .dataframe tbody tr th {\n",
       "        vertical-align: top;\n",
       "    }\n",
       "\n",
       "    .dataframe thead th {\n",
       "        text-align: right;\n",
       "    }\n",
       "</style>\n",
       "<table border=\"1\" class=\"dataframe\">\n",
       "  <thead>\n",
       "    <tr style=\"text-align: right;\">\n",
       "      <th></th>\n",
       "      <th>k</th>\n",
       "      <th>v1</th>\n",
       "    </tr>\n",
       "  </thead>\n",
       "  <tbody>\n",
       "    <tr>\n",
       "      <th>0</th>\n",
       "      <td>1</td>\n",
       "      <td>a</td>\n",
       "    </tr>\n",
       "    <tr>\n",
       "      <th>1</th>\n",
       "      <td>1</td>\n",
       "      <td>b</td>\n",
       "    </tr>\n",
       "    <tr>\n",
       "      <th>2</th>\n",
       "      <td>1</td>\n",
       "      <td>c</td>\n",
       "    </tr>\n",
       "  </tbody>\n",
       "</table>\n",
       "</div>"
      ],
      "text/plain": [
       "   k v1\n",
       "0  1  a\n",
       "1  1  b\n",
       "2  1  c"
      ]
     },
     "metadata": {},
     "output_type": "display_data"
    },
    {
     "data": {
      "text/html": [
       "<div>\n",
       "<style scoped>\n",
       "    .dataframe tbody tr th:only-of-type {\n",
       "        vertical-align: middle;\n",
       "    }\n",
       "\n",
       "    .dataframe tbody tr th {\n",
       "        vertical-align: top;\n",
       "    }\n",
       "\n",
       "    .dataframe thead th {\n",
       "        text-align: right;\n",
       "    }\n",
       "</style>\n",
       "<table border=\"1\" class=\"dataframe\">\n",
       "  <thead>\n",
       "    <tr style=\"text-align: right;\">\n",
       "      <th></th>\n",
       "      <th>k</th>\n",
       "      <th>v2</th>\n",
       "    </tr>\n",
       "  </thead>\n",
       "  <tbody>\n",
       "    <tr>\n",
       "      <th>0</th>\n",
       "      <td>1</td>\n",
       "      <td>C</td>\n",
       "    </tr>\n",
       "    <tr>\n",
       "      <th>1</th>\n",
       "      <td>1</td>\n",
       "      <td>D</td>\n",
       "    </tr>\n",
       "    <tr>\n",
       "      <th>2</th>\n",
       "      <td>2</td>\n",
       "      <td>E</td>\n",
       "    </tr>\n",
       "  </tbody>\n",
       "</table>\n",
       "</div>"
      ],
      "text/plain": [
       "   k v2\n",
       "0  1  C\n",
       "1  1  D\n",
       "2  2  E"
      ]
     },
     "metadata": {},
     "output_type": "display_data"
    },
    {
     "data": {
      "text/plain": [
       "6"
      ]
     },
     "execution_count": 6,
     "metadata": {},
     "output_type": "execute_result"
    }
   ],
   "source": [
    "df1 = pd.DataFrame(data={'k': [1, 1, 1], 'v1': ['a', 'b', 'c']})\n",
    "df2 = pd.DataFrame(data={'k': [1, 1, 2], 'v2': ['C', 'D', 'E']})\n",
    "display(df1)\n",
    "display(df2)\n",
    "\n",
    "def count_join(df1, df2):\n",
    "    return pd.merge(df1, df2, left_on='k', right_on='k').shape[0]\n",
    "\n",
    "count_join(df1, df2)"
   ]
  },
  {
   "cell_type": "markdown",
   "metadata": {},
   "source": [
    " What is the local sensitivity of `count_join(df1, df2)`, and why?\n",
    " \n",
    " *Hint*: argue in terms of the \"worst possible change\" to the true database (`df1` and `df2`)."
   ]
  },
  {
   "cell_type": "markdown",
   "metadata": {},
   "source": [
    "- The sensitivity of `count_join(df1, df2)` is 6 because this is the sum of the size of each original dataset, thus it is the maximum value that `count_join()` can change by."
   ]
  },
  {
   "cell_type": "markdown",
   "metadata": {},
   "source": [
    "## Question 2 (20 points)\n",
    "\n",
    "Consider the following definitions, which provide functions for computing the local sensitivity for a counting query over a join at an arbitrary distance $k$."
   ]
  },
  {
   "cell_type": "code",
   "execution_count": 8,
   "metadata": {},
   "outputs": [],
   "source": [
    "def max_freq(df):\n",
    "    return int(df['k'].value_counts().to_frame().max())\n",
    "\n",
    "def ls_count_join_k(df1, df2, k):\n",
    "    return max(k + max_freq(df1), k + max_freq(df2))"
   ]
  },
  {
   "cell_type": "markdown",
   "metadata": {},
   "source": [
    "Write code that uses the propose-test-release framework to release a differentially private answer to the query `count_join`. Your solution should return `False` when the test phase of propose-test-release fails.\n",
    "\n",
    "*Hint*: use the definition of `ls_count_join_k` to compute the local sensitivity at distance $k$."
   ]
  },
  {
   "cell_type": "code",
   "execution_count": 13,
   "metadata": {},
   "outputs": [
    {
     "name": "stdout",
     "output_type": "stream",
     "text": [
      "b = 1: 6.1788783033551296\n",
      "b = 20: 0.12311789458664002\n",
      "b = 50: 29.479980541541142\n"
     ]
    }
   ],
   "source": [
    "def ptr_count_join(df1, df2, b, epsilon, delta):\n",
    "    \n",
    "    df = pd.merge(df1, df2, left_on='k', right_on='k')\n",
    "    k = max_freq(df)\n",
    "    noisy_distance = laplace_mech(k, ls_count_join_k(df1, df2, k), epsilon)\n",
    "    threshold = np.log(2/delta)/(2*epsilon)\n",
    "    \n",
    "    if noisy_distance >= threshold:\n",
    "        return laplace_mech(df.shape[0], b, epsilon)\n",
    "    else:\n",
    "        return None\n",
    "\n",
    "# Note: your answers will differ due to randomness\n",
    "print(f\"b = 1: {ptr_count_join(df1, df2, 1, 1, 1e-5)}\")\n",
    "print(f\"b = 20: {ptr_count_join(df1, df2, 20, 1, 1e-5)}\")\n",
    "print(f\"b = 50: {ptr_count_join(df1, df2, 50, 1, 1e-5)}\")"
   ]
  },
  {
   "cell_type": "markdown",
   "metadata": {},
   "source": [
    "## Question 3 (20 points)\n",
    "\n",
    "Consider the query `capgain_mean`, which calculates the mean of the `Capital Gain` column of the input dataframe."
   ]
  },
  {
   "cell_type": "code",
   "execution_count": 16,
   "metadata": {},
   "outputs": [
    {
     "data": {
      "text/plain": [
       "1077.6488437087312"
      ]
     },
     "execution_count": 16,
     "metadata": {},
     "output_type": "execute_result"
    }
   ],
   "source": [
    "def capgain_mean(df):\n",
    "    return np.mean(df['Capital Gain'])\n",
    "\n",
    "capgain_mean(adult_data)"
   ]
  },
  {
   "cell_type": "markdown",
   "metadata": {},
   "source": [
    "Write code that implements sample-and-aggregate for the `capgain_mean` query.\n",
    "\n",
    "*Hint*: use `np.array_split` to split `df` into chunks.\n",
    "\n",
    "*Hint*: use `clip` (defined above) to clip results."
   ]
  },
  {
   "cell_type": "code",
   "execution_count": 29,
   "metadata": {},
   "outputs": [
    {
     "name": "stdout",
     "output_type": "stream",
     "text": [
      "k = 20: 663.1447856884279\n",
      "k = 200: 1130.4863058419485\n",
      "k = 2000: 1065.2674814295708\n"
     ]
    }
   ],
   "source": [
    "def saa_capgain_mean(df, k, upper, lower, epsilon):\n",
    "    \n",
    "    chunk_size = int(np.ceil(df.shape[0] / k))\n",
    "    chunks = [df[i:i+chunk_size] for i in range(0,df.shape[0],chunk_size)]\n",
    "    results = [capgain_mean(chunk) for chunk in chunks]\n",
    "    clipped_results = clip(results, upper, lower)\n",
    "    \n",
    "    dp_answer = laplace_mech(np.mean(clipped_results), (upper-lower)/k, epsilon)\n",
    "    return dp_answer\n",
    "    \n",
    "\n",
    "print(f\"k = 20: {saa_capgain_mean(adult_data, 20, 10000, 0, 1)}\")\n",
    "print(f\"k = 200: {saa_capgain_mean(adult_data, 200, 10000, 0, 1)}\")\n",
    "print(f\"k = 2000: {saa_capgain_mean(adult_data, 2000, 10000, 0, 1)}\")"
   ]
  },
  {
   "cell_type": "markdown",
   "metadata": {},
   "source": [
    "## Question 4 (10 points)\n",
    "\n",
    "Run the tests in Question 3 several times and observe the accuracy for each value of $k$. What value of $k$ seems to work the best? Describe the tradeoff in setting a value for $k$."
   ]
  },
  {
   "cell_type": "markdown",
   "metadata": {},
   "source": [
    "- The value `k = 2000` seems to produce the most accurate answer. The tradeoff is that although a greater value of `k` means lower sensitivity, there are more chunks and thus, the likelihood of accurate answers is lower."
   ]
  },
  {
   "cell_type": "markdown",
   "metadata": {},
   "source": [
    "## Question 5 (5 points)\n",
    "\n",
    "Do you think sample and aggregate would work well for join queries like `count_join`? Why, or why not?"
   ]
  },
  {
   "cell_type": "markdown",
   "metadata": {},
   "source": [
    "- 'Sample and aggregate' should work well with a query like `count_join`; such a mechanism would be excellent for reducing the sensitivity of such a query."
   ]
  },
  {
   "cell_type": "code",
   "execution_count": null,
   "metadata": {},
   "outputs": [],
   "source": []
  }
 ],
 "metadata": {
  "kernelspec": {
   "display_name": "Python 3",
   "language": "python",
   "name": "python3"
  },
  "language_info": {
   "codemirror_mode": {
    "name": "ipython",
    "version": 3
   },
   "file_extension": ".py",
   "mimetype": "text/x-python",
   "name": "python",
   "nbconvert_exporter": "python",
   "pygments_lexer": "ipython3",
   "version": "3.7.3"
  }
 },
 "nbformat": 4,
 "nbformat_minor": 4
}
