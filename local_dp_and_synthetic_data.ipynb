{
 "cells": [
  {
   "cell_type": "code",
   "execution_count": 2,
   "metadata": {},
   "outputs": [],
   "source": [
    "%matplotlib inline\n",
    "import matplotlib.pyplot as plt\n",
    "plt.style.use('seaborn-whitegrid')\n",
    "import pandas as pd\n",
    "import numpy as np\n",
    "\n",
    "# Some useful utilities\n",
    "\n",
    "def laplace_mech(v, sensitivity, epsilon):\n",
    "    return v + np.random.laplace(loc=0, scale=sensitivity / epsilon)\n",
    "\n",
    "def gaussian_mech(v, sensitivity, epsilon, delta):\n",
    "    return v + np.random.normal(loc=0, scale=sensitivity * np.sqrt(2*np.log(1.25/delta)) / epsilon)\n",
    "\n",
    "def pct_error(orig, priv):\n",
    "    return np.abs(orig - priv)/orig * 100.0\n",
    "\n",
    "def z_clip(xs, b):\n",
    "    return [min(x, b) for x in xs]\n",
    "\n",
    "def clip(xs, upper, lower):\n",
    "    return [max(min(x, upper), lower) for x in xs]\n",
    "\n",
    "def your_code_here():\n",
    "    return 1\n",
    "\n",
    "def test(msg, value, expected):\n",
    "    if value == expected:\n",
    "        print(f\"{msg}: {value}, as expected\")\n",
    "    else:\n",
    "        print(f\"{msg}: OH NO! Got {value}, but expected {expected}.\")"
   ]
  },
  {
   "cell_type": "code",
   "execution_count": 3,
   "metadata": {},
   "outputs": [],
   "source": [
    "adult_data = pd.read_csv(\"adult_with_pii.csv\", parse_dates=['DOB'])"
   ]
  },
  {
   "cell_type": "markdown",
   "metadata": {},
   "source": [
    "## Question 1 (10 points)\n",
    "\n",
    "Implement a function `rand_resp_over_40` that uses randomized response to answer the question \"how many people have ages greater than 40?\" "
   ]
  },
  {
   "cell_type": "code",
   "execution_count": 4,
   "metadata": {},
   "outputs": [
    {
     "data": {
      "text/plain": [
       "13315.5"
      ]
     },
     "execution_count": 4,
     "metadata": {},
     "output_type": "execute_result"
    }
   ],
   "source": [
    "def aggregate_rr(responses):\n",
    "    fake_yesses = len(responses)/4\n",
    "    num_yesses = np.sum([1 if r else 0 for r in responses])\n",
    "    true_yesses = num_yesses - fake_yesses\n",
    "    rr_result = true_yesses*2\n",
    "    return rr_result\n",
    "\n",
    "def rand_resp_over_40(response):\n",
    "    \n",
    "    # Reference to truthful response\n",
    "    correct_response = response > 40\n",
    "    \n",
    "    # Determine the randomized response coinflip\n",
    "    if np.random.randint(0, 2):\n",
    "        return correct_response\n",
    "    else:\n",
    "        return np.random.randint(0, 2) == 0\n",
    "\n",
    "aggregate_rr([rand_resp_over_40(r) for r in adult_data['Age']])"
   ]
  },
  {
   "cell_type": "markdown",
   "metadata": {},
   "source": [
    "## Question 2 (30 points)\n",
    "\n",
    "Implement three functions which together use the unary encoding technique to provide a histogram of ages in the US Census dataset. Your solution should consider ages between 0 and 100, and each histogram bin should have a width of 5 years (i.e. a count for `0 <= age < 5`, `5 <= age < 10`, `10 <= age < 15`, and so on)."
   ]
  },
  {
   "cell_type": "code",
   "execution_count": 5,
   "metadata": {},
   "outputs": [],
   "source": [
    "# Domain of unary encodings\n",
    "domain = [x for x in range(0, 100, 5)]\n",
    "\n",
    "# Probabilities for 'perturb' functions\n",
    "p = .75\n",
    "q = .25"
   ]
  },
  {
   "cell_type": "code",
   "execution_count": 6,
   "metadata": {},
   "outputs": [
    {
     "name": "stdout",
     "output_type": "stream",
     "text": [
      "[1, 0, 0, 0, 0, 0, 0, 0, 0, 0, 0, 0, 0, 0, 0, 0, 0, 0, 0, 0]\n",
      "[1, 0, 0, 0, 0, 0, 0, 0, 0, 0, 0, 0, 0, 0, 0, 0, 0, 0, 0, 0]\n",
      "[0, 0, 1, 0, 0, 0, 0, 0, 0, 0, 0, 0, 0, 0, 0, 0, 0, 0, 0, 0]\n",
      "[0, 0, 0, 1, 0, 0, 0, 0, 0, 0, 0, 0, 0, 0, 0, 0, 0, 0, 0, 0]\n",
      "[0, 0, 0, 0, 1, 0, 0, 0, 0, 0, 0, 0, 0, 0, 0, 0, 0, 0, 0, 0]\n"
     ]
    }
   ],
   "source": [
    "def encode_unary_age(response):\n",
    "    return [1 if x <= response and response <x+5 else 0 for x in domain]\n",
    "\n",
    "print(encode_unary_age(0))\n",
    "print(encode_unary_age(1))\n",
    "print(encode_unary_age(13))\n",
    "print(encode_unary_age(19))\n",
    "print(encode_unary_age(20))"
   ]
  },
  {
   "cell_type": "code",
   "execution_count": 7,
   "metadata": {},
   "outputs": [
    {
     "data": {
      "text/plain": [
       "[0, 0, 0, 1, 0, 0, 0, 1, 0, 0, 0, 0, 0, 0, 0, 0, 0, 1, 1, 0]"
      ]
     },
     "execution_count": 7,
     "metadata": {},
     "output_type": "execute_result"
    }
   ],
   "source": [
    "def perturb(bit):\n",
    "    \n",
    "    # Sample random float between 0 and 1\n",
    "    rand_sample = np.random.random()\n",
    "    \n",
    "    # Perturb 'bit'\n",
    "    if bit == 1:\n",
    "        if rand_sample <= p:\n",
    "            return 1\n",
    "        else:\n",
    "            return 0\n",
    "    elif bit == 0:\n",
    "        if rand_sample <= q:\n",
    "            return 1\n",
    "        else: \n",
    "            return 0\n",
    "\n",
    "def perturb_unary_age(encoded_response):\n",
    "    # Perturb each response in 'encoded_response'\n",
    "    return [perturb(response) for response in encoded_response]\n",
    "    \n",
    "\n",
    "perturb_unary_age(encode_unary_age(19))"
   ]
  },
  {
   "cell_type": "code",
   "execution_count": 8,
   "metadata": {},
   "outputs": [],
   "source": [
    "def aggregate_unary_age(responses):\n",
    "    \n",
    "    # Reconstruct perturbed responses\n",
    "    sums = np.sum(responses, axis=0)\n",
    "    n = len(responses)    \n",
    "    return [(s - n*q) / (p - q) for s in sums]"
   ]
  },
  {
   "cell_type": "code",
   "execution_count": 9,
   "metadata": {},
   "outputs": [
    {
     "name": "stdout",
     "output_type": "stream",
     "text": [
      "0 - 5: -108.5\n",
      "5 - 10: -34.5\n",
      "10 - 15: -54.5\n",
      "15 - 20: 1453.5\n",
      "20 - 25: 3799.5\n",
      "25 - 30: 4329.5\n",
      "30 - 35: 4345.5\n",
      "35 - 40: 4255.5\n",
      "40 - 45: 3879.5\n",
      "45 - 50: 3137.5\n",
      "50 - 55: 2665.5\n",
      "55 - 60: 2011.5\n",
      "60 - 65: 1305.5\n",
      "65 - 70: 1009.5\n",
      "70 - 75: 333.5\n",
      "75 - 80: 183.5\n",
      "80 - 85: 105.5\n",
      "85 - 90: -106.5\n",
      "90 - 95: -124.5\n",
      "95 - 100: 159.5\n"
     ]
    },
    {
     "data": {
      "image/png": "[encoded data removed]",
      "text/plain": [
       "<Figure size 432x288 with 1 Axes>"
      ]
     },
     "metadata": {
      "needs_background": "light"
     },
     "output_type": "display_data"
    }
   ],
   "source": [
    "def print_response_unary_age(responses):\n",
    "    domain = range(0, 100, 5)\n",
    "    counts = aggregate_unary_age(responses)\n",
    "\n",
    "    for d, c in zip(domain, counts):\n",
    "        print('{} - {}: {}'.format(d, d+5, c))\n",
    "    \n",
    "    plt.bar(domain, counts, width=4);\n",
    "\n",
    "responses = [perturb_unary_age(encode_unary_age(r)) for r in adult_data['Age']]\n",
    "print_response_unary_age(responses)"
   ]
  },
  {
   "cell_type": "markdown",
   "metadata": {},
   "source": [
    "## Question 3 (30 points)\n",
    "\n",
    "Consider the `fnlwgt` column of our dataset. This column contains continuous data (not categorical data), with an interesting underlying distribution:"
   ]
  },
  {
   "cell_type": "code",
   "execution_count": 10,
   "metadata": {},
   "outputs": [
    {
     "data": {
      "image/png": "[encoded data removed]",
      "text/plain": [
       "<Figure size 432x288 with 1 Axes>"
      ]
     },
     "metadata": {
      "needs_background": "light"
     },
     "output_type": "display_data"
    }
   ],
   "source": [
    "plt.hist(adult_data['fnlwgt'].clip(lower=0, upper=500000), bins=100);"
   ]
  },
  {
   "cell_type": "markdown",
   "metadata": {},
   "source": [
    "Write code to generate a synthetic representation of this data. Your representation should be a histogram over the range from 0 to 500,000, with a bin width of 5000. You can use the `range_query` function, defined below, to help generate the required counts."
   ]
  },
  {
   "cell_type": "code",
   "execution_count": 11,
   "metadata": {},
   "outputs": [],
   "source": [
    "def range_query(df, col, a, b):\n",
    "    return len(df[(df[col] >= a) & (df[col] < b)])"
   ]
  },
  {
   "cell_type": "code",
   "execution_count": 12,
   "metadata": {},
   "outputs": [],
   "source": [
    "def gen_synthetic_data(epsilon):\n",
    "    bin_size = 5000\n",
    "    bins = range(0, 500000, bin_size)\n",
    "    syn_data = [range_query(adult_data, 'fnlwgt', b, b+bin_size) for b in bins]\n",
    "    dp_syn_data = [laplace_mech(count, 1, epsilon) for count in syn_data]\n",
    "    return dp_syn_data\n",
    "\n",
    "syn_data = gen_synthetic_data(1.0)"
   ]
  },
  {
   "cell_type": "markdown",
   "metadata": {},
   "source": [
    "## Question 4 (30 points)\n",
    "\n",
    "Using your synthetic data from the last question, generate tabular data with 5000 synthetic data points. Keep in mind that the `fnlwgt` column contains continuous data, and your synthetic tabular data should too."
   ]
  },
  {
   "cell_type": "code",
   "execution_count": 13,
   "metadata": {},
   "outputs": [
    {
     "data": {
      "image/png": "[encoded data removed]",
      "text/plain": [
       "<Figure size 432x288 with 1 Axes>"
      ]
     },
     "metadata": {
      "needs_background": "light"
     },
     "output_type": "display_data"
    }
   ],
   "source": [
    "def gen_sample(syn_data):\n",
    "\n",
    "    # Define constants\n",
    "    bin_size = 5000\n",
    "    bins = range(0, 500000, bin_size)\n",
    "    \n",
    "    # Normalize synthetic data\n",
    "    syn_data_nonneg = np.clip(syn_data, 0, None)\n",
    "    syn_data_normalized = syn_data_nonneg / np.sum(syn_data_nonneg)\n",
    "    \n",
    "    return np.random.choice(bins, 1, p=syn_data_normalized)[0]\n",
    "\n",
    "samples = [gen_sample(syn_data) for i in range(5000)]\n",
    "plt.hist(samples, bins=100);"
   ]
  },
  {
   "cell_type": "code",
   "execution_count": null,
   "metadata": {},
   "outputs": [],
   "source": []
  }
 ],
 "metadata": {
  "kernelspec": {
   "display_name": "Python 3",
   "language": "python",
   "name": "python3"
  },
  "language_info": {
   "codemirror_mode": {
    "name": "ipython",
    "version": 3
   },
   "file_extension": ".py",
   "mimetype": "text/x-python",
   "name": "python",
   "nbconvert_exporter": "python",
   "pygments_lexer": "ipython3",
   "version": "3.7.3"
  }
 },
 "nbformat": 4,
 "nbformat_minor": 4
}
